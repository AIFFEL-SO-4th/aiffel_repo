{
 "cells": [
  {
   "cell_type": "markdown",
   "source": [
    "Head line\n",
    "=========\n",
    "\n",
    "sub Head line\n",
    "-------------\n",
    "\n",
    "# 글머리1\n",
    "## 글머리2\n",
    "### 글머리3\n",
    "#### 글머리4\n",
    "##### 글머리5\n",
    "###### 글머리6\n",
    "\n",
    "1. first\n",
    "2. second\n",
    "3. third\n",
    "\n",
    "- red\n",
    "- blue\n",
    "- green\n",
    "\n",
    "+ hi\n",
    "+ hello\n",
    "---\n",
    "[구글](https://google.com)\n",
    "\n",
    "*single asterisks*\n",
    "_single underscores_\n",
    "**double asterisks**\n",
    "__double asterisks__\n",
    "~~cancelline~~\n",
    "\n",
    "*줄바꿈을 하기 위해서는 문장 마지막에서 2칸 이상을 띄어쓰기 해야한다.\n",
    "\n",
    "\n",
    "\n",
    "![이미지 넣기]<img src=\"이미지 주소\">\n"
   ],
   "metadata": {
    "collapsed": false
   }
  },
  {
   "cell_type": "markdown",
   "source": [
    "마크다운(Markdown)은 일반 텍스트 기반의 경량 마크업 언어다. 일반 텍스트로 서식이 있는 문서를 작성하는 데 사용되며,일반\n",
    "마크업 언어에 비해 문법이 쉽고 간단한 것이 특징이다.(출처:[위키피디아](https://ko.wikipedia.org/wiki/%EB%A7%88%ED%81%AC%EB%8B%A4%EC%9A%B4))\n",
    "\n",
    "* [마크다운 공식 사이트](https://daringfireball.net/projects/markdown/)\n",
    "* [GitHub](https://github.com/)\n",
    "* [아이펠](https://aiffel.io/)\n"
   ],
   "metadata": {
    "collapsed": false
   }
  },
  {
   "cell_type": "code",
   "execution_count": null,
   "metadata": {
    "collapsed": true
   },
   "outputs": [],
   "source": []
  }
 ],
 "metadata": {
  "kernelspec": {
   "display_name": "Python 3",
   "language": "python",
   "name": "python3"
  },
  "language_info": {
   "codemirror_mode": {
    "name": "ipython",
    "version": 2
   },
   "file_extension": ".py",
   "mimetype": "text/x-python",
   "name": "python",
   "nbconvert_exporter": "python",
   "pygments_lexer": "ipython2",
   "version": "2.7.6"
  }
 },
 "nbformat": 4,
 "nbformat_minor": 0
}
