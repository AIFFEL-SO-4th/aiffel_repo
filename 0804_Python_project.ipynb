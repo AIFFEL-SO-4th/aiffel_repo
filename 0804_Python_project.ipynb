{
 "cells": [
  {
   "cell_type": "markdown",
   "source": [
    "### 10-2. 프로젝트 1 : 전화번호 가려주는 프로그램"
   ],
   "metadata": {
    "collapsed": false
   }
  },
  {
   "cell_type": "code",
   "execution_count": 1,
   "metadata": {
    "collapsed": true,
    "ExecuteTime": {
     "end_time": "2023-08-04T06:29:39.406013Z",
     "start_time": "2023-08-04T06:29:39.394657800Z"
    }
   },
   "outputs": [],
   "source": [
    "def change_num(nums):\n",
    "    return nums[:-5] + \"#\" * 5"
   ]
  },
  {
   "cell_type": "code",
   "execution_count": 2,
   "outputs": [
    {
     "data": {
      "text/plain": "'010-13579-#####'"
     },
     "execution_count": 2,
     "metadata": {},
     "output_type": "execute_result"
    }
   ],
   "source": [
    "change_num('010-13579-24688')"
   ],
   "metadata": {
    "collapsed": false,
    "ExecuteTime": {
     "end_time": "2023-08-04T06:29:45.433919200Z",
     "start_time": "2023-08-04T06:29:45.381952800Z"
    }
   }
  },
  {
   "cell_type": "markdown",
   "source": [
    "### 10-3. 프로젝트 2 : 리스트 평탄화"
   ],
   "metadata": {
    "collapsed": false
   }
  },
  {
   "cell_type": "code",
   "execution_count": 9,
   "outputs": [],
   "source": [
    "def flatten(data):\n",
    "    result = []\n",
    "    for i in data:\n",
    "        if type(i) == list:\n",
    "            result += flatten(i)\n",
    "        else:\n",
    "            result.append(i)\n",
    "    return result"
   ],
   "metadata": {
    "collapsed": false,
    "ExecuteTime": {
     "end_time": "2023-08-04T06:34:16.835336300Z",
     "start_time": "2023-08-04T06:34:16.825195300Z"
    }
   }
  },
  {
   "cell_type": "code",
   "execution_count": 10,
   "outputs": [
    {
     "data": {
      "text/plain": "[1, 2, 3, 4, 5, 6, 7, 8, 9]"
     },
     "execution_count": 10,
     "metadata": {},
     "output_type": "execute_result"
    }
   ],
   "source": [
    "a = [[1, 2], 3, [[4, 5, 6], 7], 8, 9]\n",
    "flatten(a)"
   ],
   "metadata": {
    "collapsed": false,
    "ExecuteTime": {
     "end_time": "2023-08-04T06:34:17.017473700Z",
     "start_time": "2023-08-04T06:34:16.981386400Z"
    }
   }
  },
  {
   "cell_type": "markdown",
   "source": [
    "### 10-4. 프로젝트 3 : 10 이하 숫자만 곱해주는 함수"
   ],
   "metadata": {
    "collapsed": false
   }
  },
  {
   "cell_type": "code",
   "execution_count": 11,
   "outputs": [],
   "source": [
    "def mul(*values):\n",
    "    x = 1\n",
    "    for i in values:\n",
    "        if i <= 10:\n",
    "            x = x * i\n",
    "        else:\n",
    "            pass\n",
    "    return x"
   ],
   "metadata": {
    "collapsed": false,
    "ExecuteTime": {
     "end_time": "2023-08-04T06:34:19.529034100Z",
     "start_time": "2023-08-04T06:34:19.519427200Z"
    }
   }
  },
  {
   "cell_type": "code",
   "execution_count": 12,
   "outputs": [
    {
     "data": {
      "text/plain": "120"
     },
     "execution_count": 12,
     "metadata": {},
     "output_type": "execute_result"
    }
   ],
   "source": [
    "mul(2, 3, 4, 5)"
   ],
   "metadata": {
    "collapsed": false,
    "ExecuteTime": {
     "end_time": "2023-08-04T06:34:20.414245600Z",
     "start_time": "2023-08-04T06:34:20.406498500Z"
    }
   }
  },
  {
   "cell_type": "code",
   "execution_count": 13,
   "outputs": [
    {
     "data": {
      "text/plain": "30"
     },
     "execution_count": 13,
     "metadata": {},
     "output_type": "execute_result"
    }
   ],
   "source": [
    "mul(3, 12, 10)"
   ],
   "metadata": {
    "collapsed": false,
    "ExecuteTime": {
     "end_time": "2023-08-04T06:34:20.623424400Z",
     "start_time": "2023-08-04T06:34:20.615855800Z"
    }
   }
  },
  {
   "cell_type": "code",
   "execution_count": null,
   "outputs": [],
   "source": [],
   "metadata": {
    "collapsed": false
   }
  }
 ],
 "metadata": {
  "kernelspec": {
   "display_name": "Python 3",
   "language": "python",
   "name": "python3"
  },
  "language_info": {
   "codemirror_mode": {
    "name": "ipython",
    "version": 2
   },
   "file_extension": ".py",
   "mimetype": "text/x-python",
   "name": "python",
   "nbconvert_exporter": "python",
   "pygments_lexer": "ipython2",
   "version": "2.7.6"
  }
 },
 "nbformat": 4,
 "nbformat_minor": 0
}
