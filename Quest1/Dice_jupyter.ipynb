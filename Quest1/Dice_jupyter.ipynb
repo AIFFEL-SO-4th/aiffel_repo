{
 "cells": [
  {
   "cell_type": "code",
   "execution_count": null,
   "metadata": {
    "collapsed": true
   },
   "outputs": [],
   "source": [
    "import random\n",
    "\n",
    "\n",
    "# 현재 코드의 컨셉은 불필요한 부분을 모두 날리고 한줄이라도 줄이려 함\n",
    "class FunnyDice:\n",
    "    def __init__(self, n=6):  # n의 값을 입력하지 않을 시 기본값은 6\n",
    "        self.n = int(n)  # 정수 처리\n",
    "        self.val = random.randrange(1, self.n + 1)  # 1 <= n < (n + 1) 최종 출력값 밸류에 바로 랜덤기능을 적용\n",
    "\n",
    "    def getval(self):\n",
    "        return self.val  # getter기능을 사용해서 외부에서 이 클래스에 접근할 때 해당 메서드를 사용하게 함\n",
    "\n",
    "\n",
    "def throw():  # throw 함수와 main 함수를 합침\n",
    "    n = int(input(\"주사위 면의 갯수를 입력하세요: \"))\n",
    "    dice = FunnyDice(n)\n",
    "    print(f\"행운의 숫자는? {dice.getval()}\")\n",
    "\n",
    "\n",
    "if __name__ == '__main__':  # 클래스를 정의한 파일내에서 작동하기위함\n",
    "    throw()"
   ]
  },
  {
   "cell_type": "code",
   "execution_count": 3,
   "outputs": [
    {
     "name": "stdout",
     "output_type": "stream",
     "text": [
      "행운의 숫자는? 58\n"
     ]
    }
   ],
   "source": [
    "throw() # 주사위 범위를 100으로 설정"
   ],
   "metadata": {
    "collapsed": false,
    "ExecuteTime": {
     "end_time": "2023-08-09T06:45:18.710209100Z",
     "start_time": "2023-08-09T06:45:00.448526600Z"
    }
   }
  },
  {
   "cell_type": "code",
   "execution_count": null,
   "outputs": [],
   "source": [],
   "metadata": {
    "collapsed": false
   }
  }
 ],
 "metadata": {
  "kernelspec": {
   "display_name": "Python 3",
   "language": "python",
   "name": "python3"
  },
  "language_info": {
   "codemirror_mode": {
    "name": "ipython",
    "version": 2
   },
   "file_extension": ".py",
   "mimetype": "text/x-python",
   "name": "python",
   "nbconvert_exporter": "python",
   "pygments_lexer": "ipython2",
   "version": "2.7.6"
  }
 },
 "nbformat": 4,
 "nbformat_minor": 0
}
