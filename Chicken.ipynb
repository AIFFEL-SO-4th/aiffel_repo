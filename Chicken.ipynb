{
 "cells": [
  {
   "cell_type": "code",
   "execution_count": 1,
   "metadata": {
    "collapsed": true,
    "ExecuteTime": {
     "end_time": "2023-08-07T03:28:29.299057100Z",
     "start_time": "2023-08-07T03:28:29.295511900Z"
    }
   },
   "outputs": [],
   "source": [
    "def chicken(x):\n",
    "    if x <= 1:\n",
    "        return 1\n",
    "    a, b = 1, 1\n",
    "    while True:\n",
    "        c = a + b\n",
    "        if c > x:\n",
    "            return a + chicken(x - b)\n",
    "        elif c == x:\n",
    "            return b\n",
    "        a, b = b, c"
   ]
  },
  {
   "cell_type": "code",
   "execution_count": 2,
   "outputs": [
    {
     "data": {
      "text/plain": "6"
     },
     "execution_count": 2,
     "metadata": {},
     "output_type": "execute_result"
    }
   ],
   "source": [
    "chicken(10)"
   ],
   "metadata": {
    "collapsed": false,
    "ExecuteTime": {
     "end_time": "2023-08-07T03:28:34.144021400Z",
     "start_time": "2023-08-07T03:28:34.134881800Z"
    }
   }
  },
  {
   "cell_type": "code",
   "execution_count": null,
   "outputs": [],
   "source": [],
   "metadata": {
    "collapsed": false
   }
  }
 ],
 "metadata": {
  "kernelspec": {
   "display_name": "Python 3",
   "language": "python",
   "name": "python3"
  },
  "language_info": {
   "codemirror_mode": {
    "name": "ipython",
    "version": 2
   },
   "file_extension": ".py",
   "mimetype": "text/x-python",
   "name": "python",
   "nbconvert_exporter": "python",
   "pygments_lexer": "ipython2",
   "version": "2.7.6"
  }
 },
 "nbformat": 4,
 "nbformat_minor": 0
}
