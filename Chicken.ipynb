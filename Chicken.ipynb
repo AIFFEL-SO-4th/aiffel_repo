{
 "cells": [
  {
   "cell_type": "code",
   "execution_count": 2,
   "metadata": {
    "collapsed": true,
    "ExecuteTime": {
     "end_time": "2023-08-09T11:30:45.137039800Z",
     "start_time": "2023-08-09T11:30:45.125988300Z"
    }
   },
   "outputs": [],
   "source": [
    "def chicken(x):\n",
    "    if x <= 1:\n",
    "        return 1\n",
    "    a, b = 1, 1\n",
    "    while True:\n",
    "        c = a + b\n",
    "        if c > x:\n",
    "            return a + chicken(x - b)\n",
    "        elif c == x:\n",
    "            return b\n",
    "        a, b = b, c"
   ]
  },
  {
   "cell_type": "code",
   "execution_count": 3,
   "outputs": [
    {
     "data": {
      "text/plain": "6"
     },
     "execution_count": 3,
     "metadata": {},
     "output_type": "execute_result"
    }
   ],
   "source": [
    "chicken(10)"
   ],
   "metadata": {
    "collapsed": false,
    "ExecuteTime": {
     "end_time": "2023-08-09T11:30:45.660055800Z",
     "start_time": "2023-08-09T11:30:45.639133500Z"
    }
   }
  },
  {
   "cell_type": "code",
   "execution_count": 4,
   "outputs": [
    {
     "data": {
      "text/plain": "5"
     },
     "execution_count": 4,
     "metadata": {},
     "output_type": "execute_result"
    }
   ],
   "source": [
    "chicken(8)"
   ],
   "metadata": {
    "collapsed": false,
    "ExecuteTime": {
     "end_time": "2023-08-09T11:30:46.054329500Z",
     "start_time": "2023-08-09T11:30:46.044742700Z"
    }
   }
  },
  {
   "cell_type": "code",
   "execution_count": null,
   "outputs": [],
   "source": [],
   "metadata": {
    "collapsed": false
   }
  }
 ],
 "metadata": {
  "kernelspec": {
   "display_name": "Python 3",
   "language": "python",
   "name": "python3"
  },
  "language_info": {
   "codemirror_mode": {
    "name": "ipython",
    "version": 2
   },
   "file_extension": ".py",
   "mimetype": "text/x-python",
   "name": "python",
   "nbconvert_exporter": "python",
   "pygments_lexer": "ipython2",
   "version": "2.7.6"
  }
 },
 "nbformat": 4,
 "nbformat_minor": 0
}
